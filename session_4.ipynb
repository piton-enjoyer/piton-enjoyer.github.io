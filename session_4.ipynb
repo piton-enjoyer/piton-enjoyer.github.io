{
 "cells": [
  {
   "cell_type": "markdown",
   "metadata": {},
   "source": [
    "Challenge 1"
   ]
  },
  {
   "cell_type": "code",
   "execution_count": 3,
   "metadata": {},
   "outputs": [
    {
     "name": "stdout",
     "output_type": "stream",
     "text": [
      "[20, 40, 60, 80]\n"
     ]
    }
   ],
   "source": [
    "num = [4,5,10,20,40,60,80]\n",
    "new = []\n",
    "for i in num:\n",
    "    if(i > 10):\n",
    "        new.append(i)\n",
    "print(new)"
   ]
  },
  {
   "cell_type": "markdown",
   "metadata": {},
   "source": [
    "Challenge 2"
   ]
  },
  {
   "cell_type": "code",
   "execution_count": 10,
   "metadata": {},
   "outputs": [
    {
     "name": "stdout",
     "output_type": "stream",
     "text": [
      "Luas lingkaran = 314.0\n"
     ]
    },
    {
     "data": {
      "text/plain": [
       "314.0"
      ]
     },
     "execution_count": 10,
     "metadata": {},
     "output_type": "execute_result"
    }
   ],
   "source": [
    "def luas_lingkaran(r, pi = 3.14):\n",
    "    luas = pi*r*r\n",
    "    print(\"Luas lingkaran =\", luas)\n",
    "    return luas\n",
    "\n",
    "luas_lingkaran(10)"
   ]
  },
  {
   "cell_type": "markdown",
   "metadata": {},
   "source": [
    "Challenge 3"
   ]
  },
  {
   "cell_type": "code",
   "execution_count": 10,
   "metadata": {},
   "outputs": [
    {
     "name": "stdout",
     "output_type": "stream",
     "text": [
      "a + b = 20\n",
      "a x b = 100\n",
      "a dan b sama\n"
     ]
    }
   ],
   "source": [
    "def two_num(a,b):\n",
    "    print(\"a + b =\", a+b)\n",
    "    print(\"a x b =\", a*b)\n",
    "    if (a == b):\n",
    "        print(\"a dan b sama\")\n",
    "    else:\n",
    "        if (a > b):\n",
    "            print(\"nilai terbesar(a) =\", a)\n",
    "        elif (b > a):\n",
    "            print(\"nilai terbesar(b) =\", b)\n",
    "\n",
    "two_num(10,10)"
   ]
  }
 ],
 "metadata": {
  "kernelspec": {
   "display_name": "Python 3.9.10 64-bit",
   "language": "python",
   "name": "python3"
  },
  "language_info": {
   "codemirror_mode": {
    "name": "ipython",
    "version": 3
   },
   "file_extension": ".py",
   "mimetype": "text/x-python",
   "name": "python",
   "nbconvert_exporter": "python",
   "pygments_lexer": "ipython3",
   "version": "3.9.10"
  },
  "orig_nbformat": 4,
  "vscode": {
   "interpreter": {
    "hash": "8f8cf99212f81ad0c4765861267244807ee1c18364846cdce387b28994a977ba"
   }
  }
 },
 "nbformat": 4,
 "nbformat_minor": 2
}
